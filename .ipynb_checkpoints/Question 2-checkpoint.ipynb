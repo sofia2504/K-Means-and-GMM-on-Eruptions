{
 "cells": [
  {
   "cell_type": "code",
   "execution_count": 1,
   "id": "01525b84",
   "metadata": {},
   "outputs": [],
   "source": [
    "import numpy as np"
   ]
  },
  {
   "cell_type": "markdown",
   "id": "8df2b2a3",
   "metadata": {},
   "source": [
    "<span style=\"font-size: 16px;\">Part a</span>"
   ]
  },
  {
   "cell_type": "code",
   "execution_count": 4,
   "id": "40e62f99",
   "metadata": {},
   "outputs": [],
   "source": [
    "M = np.array([\n",
    "    [1, 0, 3],\n",
    "    [3, 7, 2],\n",
    "    [2, -2, 8],\n",
    "    [0, -1, 1],\n",
    "    [5, 8, 7]\n",
    "])"
   ]
  },
  {
   "cell_type": "code",
   "execution_count": 6,
   "id": "36041c8a",
   "metadata": {},
   "outputs": [
    {
     "name": "stdout",
     "output_type": "stream",
     "text": [
      "M^T M = \n",
      " [[ 39  57  60]\n",
      " [ 57 118  53]\n",
      " [ 60  53 127]]\n"
     ]
    }
   ],
   "source": [
    "#M^TM\n",
    "M_transpose = M.T\n",
    "MT_M = np.dot(M_transpose, M)\n",
    "print(\"M^T M = \\n\", MT_M)"
   ]
  },
  {
   "cell_type": "code",
   "execution_count": 7,
   "id": "1fb4149c",
   "metadata": {},
   "outputs": [
    {
     "name": "stdout",
     "output_type": "stream",
     "text": [
      "MM^T = \n",
      " [[ 10   9  26   3  26]\n",
      " [  9  62   8  -5  85]\n",
      " [ 26   8  72  10  50]\n",
      " [  3  -5  10   2  -1]\n",
      " [ 26  85  50  -1 138]]\n"
     ]
    }
   ],
   "source": [
    "#MM^T\n",
    "M_MT = np.dot(M, M_transpose)\n",
    "print(\"MM^T = \\n\", M_MT)"
   ]
  },
  {
   "cell_type": "markdown",
   "id": "084b64ff",
   "metadata": {},
   "source": [
    "<span style=\"font-size: 16px;\">Part b</span>"
   ]
  },
  {
   "cell_type": "code",
   "execution_count": null,
   "id": "06d518fb",
   "metadata": {},
   "outputs": [],
   "source": [
    "eigenvals_MT_M = np.linalg.eigvals(MT_M)\n",
    "eigenvals_MT_M = np.sort(eigenvals_MT_M)[::-1]"
   ]
  }
 ],
 "metadata": {
  "kernelspec": {
   "display_name": "Python 3 (ipykernel)",
   "language": "python",
   "name": "python3"
  },
  "language_info": {
   "codemirror_mode": {
    "name": "ipython",
    "version": 3
   },
   "file_extension": ".py",
   "mimetype": "text/x-python",
   "name": "python",
   "nbconvert_exporter": "python",
   "pygments_lexer": "ipython3",
   "version": "3.11.5"
  }
 },
 "nbformat": 4,
 "nbformat_minor": 5
}
