{
 "cells": [
  {
   "cell_type": "code",
   "execution_count": 1,
   "id": "edd6b3ab",
   "metadata": {},
   "outputs": [],
   "source": [
    "import numpy as np"
   ]
  },
  {
   "cell_type": "markdown",
   "id": "172c0fa2",
   "metadata": {},
   "source": [
    "<span style=\"font-size: 16px;\">Part a</span>"
   ]
  },
  {
   "cell_type": "code",
   "execution_count": 4,
   "id": "6378af65",
   "metadata": {},
   "outputs": [],
   "source": [
    "M = np.array([\n",
    "    [1, 0, 3],\n",
    "    [3, 7, 2],\n",
    "    [2, -2, 8],\n",
    "    [0, -1, 1],\n",
    "    [5, 8, 7]\n",
    "])"
   ]
  },
  {
   "cell_type": "code",
   "execution_count": 6,
   "id": "38a3db88",
   "metadata": {},
   "outputs": [
    {
     "name": "stdout",
     "output_type": "stream",
     "text": [
      "M^T M = \n",
      " [[ 39  57  60]\n",
      " [ 57 118  53]\n",
      " [ 60  53 127]]\n"
     ]
    }
   ],
   "source": [
    "#M^TM\n",
    "M_transpose = M.T\n",
    "MT_M = np.dot(M_transpose, M)\n",
    "print(\"M^T M = \\n\", MT_M)"
   ]
  },
  {
   "cell_type": "code",
   "execution_count": 7,
   "id": "2f74606f",
   "metadata": {},
   "outputs": [
    {
     "name": "stdout",
     "output_type": "stream",
     "text": [
      "MM^T = \n",
      " [[ 10   9  26   3  26]\n",
      " [  9  62   8  -5  85]\n",
      " [ 26   8  72  10  50]\n",
      " [  3  -5  10   2  -1]\n",
      " [ 26  85  50  -1 138]]\n"
     ]
    }
   ],
   "source": [
    "#MM^T\n",
    "M_MT = np.dot(M, M_transpose)\n",
    "print(\"MM^T = \\n\", M_MT)"
   ]
  },
  {
   "cell_type": "markdown",
   "id": "90072f34",
   "metadata": {},
   "source": [
    "<span style=\"font-size: 16px;\">Part b</span>"
   ]
  },
  {
   "cell_type": "code",
   "execution_count": 8,
   "id": "93f062c3",
   "metadata": {},
   "outputs": [
    {
     "name": "stdout",
     "output_type": "stream",
     "text": [
      "Eigenvalues of M^T M:\n",
      "[ 2.14670489e+02  6.93295108e+01 -4.65183174e-15]\n"
     ]
    }
   ],
   "source": [
    "eigenvals_MT_M = np.linalg.eigvals(MT_M)\n",
    "eigenvals_MT_M = np.sort(eigenvals_MT_M)[::-1]\n",
    "print(\"Eigenvalues of M^T M:\")\n",
    "print(eigenvals_MT_M)"
   ]
  },
  {
   "cell_type": "code",
   "execution_count": 10,
   "id": "3d458b44",
   "metadata": {},
   "outputs": [
    {
     "name": "stdout",
     "output_type": "stream",
     "text": [
      "\n",
      "Eigenvalues of MM^T:\n",
      "[ 2.14670489e+02 -1.98884150e-14  6.93295108e+01 -1.02373098e-15\n",
      "  2.14922736e-15]\n"
     ]
    }
   ],
   "source": [
    "eigenvals_M_MT = np.linalg.eigvals(M_MT)\n",
    "eigenvals_MT_M = np.sort(eigenvals_M_MT)[::-1]\n",
    "print(\"\\nEigenvalues of MM^T:\")\n",
    "print(eigenvals_M_MT)"
   ]
  },
  {
   "cell_type": "markdown",
   "id": "6de4f451",
   "metadata": {},
   "source": [
    "<span style=\"font-size: 16px;\">Part c</span>"
   ]
  },
  {
   "cell_type": "code",
   "execution_count": 15,
   "id": "91cb6639",
   "metadata": {},
   "outputs": [
    {
     "name": "stdout",
     "output_type": "stream",
     "text": [
      "\n",
      "Eigenvectors of M^T M (columns):\n",
      "[[ 0.42615127  0.01460404  0.90453403]\n",
      " [ 0.61500884  0.72859799 -0.30151134]\n",
      " [ 0.66344497 -0.68478587 -0.30151134]]\n",
      "\n",
      "Eigenvectors of MM^T (columns):\n",
      "[[-0.16492942  0.24497323  0.0696646   0.04259611  0.95190273]\n",
      " [-0.47164732 -0.45330644  0.71521789  0.24438161 -0.02833866]\n",
      " [-0.33647055  0.82943965  0.32430825 -0.09375112 -0.29129423]\n",
      " [-0.00330585  0.16974659 -0.22438689  0.95699161 -0.07065942]\n",
      " [-0.79820031 -0.13310656 -0.57278695 -0.11764774 -0.05685965]]\n"
     ]
    }
   ],
   "source": [
    "eigenvals_MT_M, eigenvecs_MT_M = np.linalg.eigh(MT_M)\n",
    "\n",
    "idx_MT_M = eigenvals_MT_M.argsort()[::-1]\n",
    "eigenvals_MT_M = eigenvals_MT_M[idx_MT_M]\n",
    "eigenvecs_MT_M = eigenvecs_MT_M[:, idx_MT_M]\n",
    "\n",
    "eigenvals_M_MT, eigenvecs_M_MT = np.linalg.eigh(M_MT)\n",
    "\n",
    "idx_M_MT = eigenvals_M_MT.argsort()[::-1]\n",
    "eigenvals_M_MT = eigenvals_M_MT[idx_M_MT]\n",
    "eigenvecs_M_MT = eigenvecs_M_MT[:, idx_M_MT]\n",
    "\n",
    "print(\"\\nEigenvectors of M^T M (columns):\")\n",
    "print(eigenvecs_MT_M)\n",
    "\n",
    "print(\"\\nEigenvectors of MM^T (columns):\")\n",
    "print(eigenvecs_M_MT)"
   ]
  },
  {
   "cell_type": "markdown",
   "id": "e0ee3ef5",
   "metadata": {},
   "source": [
    "<span style=\"font-size: 16px;\">Part d</span>"
   ]
  },
  {
   "cell_type": "code",
   "execution_count": 17,
   "id": "562531e8",
   "metadata": {},
   "outputs": [
    {
     "name": "stdout",
     "output_type": "stream",
     "text": [
      "U (5x2):\n",
      "[[-0.16492942 -0.24497323]\n",
      " [-0.47164732  0.45330644]\n",
      " [-0.33647055 -0.82943965]\n",
      " [-0.00330585 -0.16974659]\n",
      " [-0.79820031  0.13310656]]\n",
      "\n",
      "Σ (2x3):\n",
      "[[14.65163776  0.          0.        ]\n",
      " [ 0.          8.32643446  0.        ]]\n",
      "\n",
      "V^T (2x3):\n",
      "[[-0.42615127 -0.61500884 -0.66344497]\n",
      " [ 0.01460404  0.72859799 -0.68478587]]\n"
     ]
    }
   ],
   "source": [
    "U, s, VT = np.linalg.svd(M)\n",
    "U = U[:, :2]\n",
    "s = s[:2]\n",
    "VT = VT[:2, :]\n",
    "\n",
    "Sigma = np.zeros((2, 3))\n",
    "Sigma[0, 0] = s[0]\n",
    "Sigma[1, 1] = s[1]\n",
    "\n",
    "print(\"U (5x2):\")\n",
    "print(U)\n",
    "print(\"\\nΣ (2x3):\")\n",
    "print(Sigma)\n",
    "print(\"\\nV^T (2x3):\")\n",
    "print(VT)"
   ]
  },
  {
   "cell_type": "markdown",
   "id": "6e0614e6",
   "metadata": {},
   "source": [
    "<span style=\"font-size: 16px;\">Part e</span>"
   ]
  },
  {
   "cell_type": "code",
   "execution_count": 19,
   "id": "a1bfa0f6",
   "metadata": {},
   "outputs": [
    {
     "name": "stdout",
     "output_type": "stream",
     "text": [
      "1D approximation of M:\n",
      "[[1.02978864 1.48616035 1.60320558]\n",
      " [2.94487812 4.24996055 4.58467382]\n",
      " [2.10085952 3.031898   3.27068057]\n",
      " [0.02064112 0.02978864 0.0321347 ]\n",
      " [4.9838143  7.19249261 7.75895028]]\n"
     ]
    }
   ],
   "source": [
    "U, s, VT = np.linalg.svd(M)\n",
    "s[1:] = 0\n",
    "M_approx = np.dot(U[:, :1] * s[0], VT[0:1, :])\n",
    "\n",
    "print(\"1D approximation of M:\")\n",
    "print(M_approx)"
   ]
  }
 ],
 "metadata": {
  "kernelspec": {
   "display_name": "Python 3 (ipykernel)",
   "language": "python",
   "name": "python3"
  },
  "language_info": {
   "codemirror_mode": {
    "name": "ipython",
    "version": 3
   },
   "file_extension": ".py",
   "mimetype": "text/x-python",
   "name": "python",
   "nbconvert_exporter": "python",
   "pygments_lexer": "ipython3",
   "version": "3.11.5"
  }
 },
 "nbformat": 4,
 "nbformat_minor": 5
}
